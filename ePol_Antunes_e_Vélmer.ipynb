{
  "nbformat": 4,
  "nbformat_minor": 0,
  "metadata": {
    "colab": {
      "name": "ePol - Antunes e Vélmer.ipynb",
      "version": "0.3.2",
      "provenance": [],
      "include_colab_link": true
    },
    "kernelspec": {
      "name": "python3",
      "display_name": "Python 3"
    }
  },
  "cells": [
    {
      "cell_type": "markdown",
      "metadata": {
        "id": "view-in-github",
        "colab_type": "text"
      },
      "source": [
        "<a href=\"https://colab.research.google.com/github/velmer/classificacao-texto/blob/master/ePol_Antunes_e_V%C3%A9lmer.ipynb\" target=\"_parent\"><img src=\"https://colab.research.google.com/assets/colab-badge.svg\" alt=\"Open In Colab\"/></a>"
      ]
    },
    {
      "cell_type": "markdown",
      "metadata": {
        "id": "YUDljoUqdTYt",
        "colab_type": "text"
      },
      "source": [
        "Este notebook tem como objetivo demonstrar técnicas de classificação de texto usando a biblioteca sklearn e os algoritmos Regressão Logística, Árvore de Decisão e SVM. O objetivo é analisar quais destes é mais eficiente. Os dados de treinamento e teste serão os mesmos para os três algoritmos. Este trabalho é baseado em um tutorial do blog Towars Data Science, disponível [aqui](https://towardsdatascience.com/multi-class-text-classification-model-comparison-and-selection-5eb066197568).\n"
      ]
    },
    {
      "cell_type": "markdown",
      "metadata": {
        "id": "XqGj9UVbd9SP",
        "colab_type": "text"
      },
      "source": [
        "Os dados que utilizaremos nesse tutorial são de perguntas feitas no site StackOverflow. A ideia é separar as perguntas de acordo com a tecnologia/linguagem de programação da sua tag."
      ]
    },
    {
      "cell_type": "code",
      "metadata": {
        "id": "zGqVClJTdGA0",
        "colab_type": "code",
        "outputId": "fbb53aef-753f-4afc-b8ea-297ed80edc9b",
        "colab": {
          "base_uri": "https://localhost:8080/",
          "height": 225
        }
      },
      "source": [
        "import logging\n",
        "import pandas as pd\n",
        "import numpy as np\n",
        "from numpy import random\n",
        "import gensim\n",
        "import nltk\n",
        "from sklearn.model_selection import train_test_split\n",
        "from sklearn.feature_extraction.text import CountVectorizer, TfidfVectorizer\n",
        "from sklearn.metrics import accuracy_score, confusion_matrix\n",
        "import matplotlib.pyplot as plt\n",
        "from nltk.corpus import stopwords\n",
        "import re\n",
        "from bs4 import BeautifulSoup\n",
        "%matplotlib inline\n",
        "\n",
        "df = pd.read_csv('stack-overflow-data.csv')\n",
        "df = df[pd.notnull(df['tags'])]\n",
        "print(df.head(10))\n",
        "print(df['post'].apply(lambda x: len(x.split(' '))).sum())"
      ],
      "execution_count": 0,
      "outputs": [
        {
          "output_type": "stream",
          "text": [
            "                                                post           tags\n",
            "0  what is causing this behavior  in our c# datet...             c#\n",
            "1  have dynamic html load as if it was in an ifra...        asp.net\n",
            "2  how to convert a float value in to min:sec  i ...    objective-c\n",
            "3  .net framework 4 redistributable  just wonderi...           .net\n",
            "4  trying to calculate and print the mean and its...         python\n",
            "5  how to give alias name for my website  i have ...        asp.net\n",
            "6  window.open() returns null in angularjs  it wo...      angularjs\n",
            "7  identifying server timeout quickly in iphone  ...         iphone\n",
            "8  unknown method key  error in rails 2.3.8 unit ...  ruby-on-rails\n",
            "9  from the include  how to show and hide the con...      angularjs\n",
            "10286120\n"
          ],
          "name": "stdout"
        }
      ]
    }
  ]
}